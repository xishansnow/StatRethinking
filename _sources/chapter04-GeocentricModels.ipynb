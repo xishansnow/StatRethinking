{
 "cells": [
  {
   "cell_type": "markdown",
   "id": "7c37c86a",
   "metadata": {},
   "source": [
    "# 第 4 章 基础线性模型\n",
    "\n",
    "<style>p{text-indent:2em;2}</style>\n",
    "\n",
    "## 4.1 高斯分布为什么很重要？\n",
    "\n",
    "## 4.2 一种用于概率建模的数学语言\n",
    "\n",
    "## 4.3  随机变量的高斯模型\n",
    "\n",
    "## 4.4 简单线性回归模型\n",
    "\n",
    "## 4.5 多项式回归模型"
   ]
  }
 ],
 "metadata": {
  "jupytext": {
   "formats": "ipynb,md:myst",
   "text_representation": {
    "extension": ".md",
    "format_name": "myst",
    "format_version": 0.13,
    "jupytext_version": "1.10.3"
   }
  },
  "kernelspec": {
   "display_name": "Python 3 (ipykernel)",
   "language": "python",
   "name": "python3"
  },
  "language_info": {
   "codemirror_mode": {
    "name": "ipython",
    "version": 3
   },
   "file_extension": ".py",
   "mimetype": "text/x-python",
   "name": "python",
   "nbconvert_exporter": "python",
   "pygments_lexer": "ipython3",
   "version": "3.8.12"
  },
  "source_map": [
   13
  ]
 },
 "nbformat": 4,
 "nbformat_minor": 5
}